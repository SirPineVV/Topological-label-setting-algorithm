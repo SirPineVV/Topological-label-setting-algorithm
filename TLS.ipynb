{
 "cells": [
  {
   "cell_type": "code",
   "execution_count": 1,
   "metadata": {},
   "outputs": [],
   "source": [
    "import math\n",
    "from simpleNFA import NFA"
   ]
  },
  {
   "cell_type": "code",
   "execution_count": null,
   "metadata": {},
   "outputs": [
    {
     "name": "stdout",
     "output_type": "stream",
     "text": [
      "支配关系矩阵:\n",
      "     s0     s1     s2     s3     s4     s5\n",
      "s0 [True, False, False, False, False, False]\n",
      "s1 [False, True, False, True, False, True]\n",
      "s2 [False, False, True, False, False, False]\n",
      "s3 [False, True, False, True, False, True]\n",
      "s4 [False, False, False, False, True, False]\n",
      "s5 [False, False, False, False, False, True]\n"
     ]
    }
   ],
   "source": [
    "if __name__ == \"__main__\":\n",
    "    # 定义 NFA 元素\n",
    "    states = [\"s0\", \"s1\", \"s2\", \"s3\", \"s4\", \"s5\"]\n",
    "    alphabet = {\"c\", \"w\", \"b\", \"s\"}\n",
    "    transitions = {\n",
    "        \"s0\": {\"c\": [\"s2\"], \"w\": [\"s1\"], \"b\": [\"s1\"]},\n",
    "        \"s1\": {\"w\": [\"s1\"], \"b\": [\"s1\"], \"s\": [\"s4\"]},\n",
    "        \"s2\": {\"c\": [\"s2\"], \"w\": [\"s3\"]},\n",
    "        \"s3\": {\"w\": [\"s3\"], \"b\": [\"s3\"], \"s\": [\"s4\"]},\n",
    "        \"s4\": {\"s\": [\"s4\"], \"w\": [\"s5\"]},\n",
    "        \"s5\": {\"w\": [\"s5\"], \"b\": [\"s5\"]},\n",
    "    }\n",
    "    start_state = \"s0\"\n",
    "    accept_states = {\"s1\", \"s3\", \"s5\"}\n",
    "\n",
    "    # 创建 NFA\n",
    "    nfa = NFA(states, alphabet, transitions, start_state, accept_states)\n",
    "\n",
    "    # 计算并记录支配关系\n",
    "    nfa.compute_dominance_relations()\n",
    "\n",
    "    # 打印支配关系矩阵\n",
    "    nfa.get_dominance_matrix()\n",
    "\n",
    "    Mark = set() # 记录哪些标签已经访问过了\n",
    "    label_set = {(0, 'x1', 's0'): [0, None]} # 标签的集合，元素位数组，数组的0位记录旅行时间，1位是上一个标签用于溯源\n",
    "    BestLastSol = math.inf\n",
    "    "
   ]
  },
  {
   "cell_type": "code",
   "execution_count": 3,
   "metadata": {},
   "outputs": [
    {
     "data": {
      "text/plain": [
       "['s0']"
      ]
     },
     "execution_count": 3,
     "metadata": {},
     "output_type": "execute_result"
    }
   ],
   "source": [
    "nfa.domineState(\"s0\")"
   ]
  },
  {
   "cell_type": "code",
   "execution_count": null,
   "metadata": {},
   "outputs": [],
   "source": [
    "def LabelExtensionTLS(node_label, Q_now, Q_next):\n",
    "    \"\"\"\n",
    "    实现 LabelExtensionTLS 算法\n",
    "    Args:\n",
    "        node_label: 当前节点信息，格式为 (i, s, k)\n",
    "        Q_now: 当前队列\n",
    "        Q_next: 下一阶段队列\n",
    "    \n",
    "    Returns:\n",
    "        None\n",
    "    \"\"\"\n",
    "    \"\"\"\n",
    "    node_i: node编号, eg.'x1'\n",
    "    s: 状态\n",
    "    k: 换乘次数\n",
    "    \"\"\"\n",
    "    node_i, s, k = node_label[0], node_label[1], node_label[2] # 记录 i, s, k\n",
    "    bellmanCondition = 0 # 使用的是哪一种支配规则\n",
    "\n",
    "\n",
    "    global Mark, unMark # 标签记录\n",
    "    global nfa # 实现自动状态机的类\n",
    "    global multi_modal_node # 点\n",
    "    global BestValue # 记录某个标签不论换乘次数的情况下的最短旅行时间\n",
    "\n",
    "    # 遍历当前节点的邻接节点\n",
    "    '''\n",
    "    node_j : (node_j_id, mode, t_i_j) eg.('x2', 'd', 1) j的名称、i到j的交通方式、i到j的旅行时间\n",
    "    '''\n",
    "    for node_j in FS(node_i):  # FS(i) 表示节点 i 的后续节点集合（通过原始的路网关系去找）\n",
    "        for s_prime in δ(multi_modal_node[node_j[0]], s):  # s 经过 弧的mode可以到达的状态集合，因为此处的研究较为简单 所以这里可到达的状态是唯一的\n",
    "            if multi_modal_node[node_i] == multi_modal_node[node_j[0]]:\n",
    "                k_prime = k\n",
    "            else:\n",
    "                k_prime = k + 1\n",
    "            \n",
    "            # 检查未标记的后续节点，未标记则继续\n",
    "            if not Mark.get((k_prime, node_j[0], s_prime), False):\n",
    "                # 继续检查贝尔曼条件\n",
    "                if unMark[node_i] + node_j[2] < unMark.get((node_j[0], s_prime, k_prime), math.inf): # 除原点外的其他点的t初始化为无穷\n",
    "                    unMark[(node_j[0], s_prime, k_prime)] = [unMark[node_i] + node_j[2], (node_i, s, k)] # 数组的0位记录旅行时间，1位是上一个标签用于溯源\n",
    "                    \n",
    "                    if k_prime == k:\n",
    "                        BestValue[(node_j, s_prime)] = unMark[node_i] + node_j[2]\n",
    "                \n",
    "                # 判断是否满足支配条件\n",
    "                for s_sp_sprime in nfa.domineState(s_prime):\n",
    "                    if s_sp_sprime == s_prime:\n",
    "                        continue\n",
    "                    if unMark[node_i] + node_j[2] < BestValue.get((node_j[1], s_sp_sprime), math.inf):\n",
    "                        if k_prime == k:\n",
    "                            Q_now.add((node_j[0], s_prime, k_prime))\n",
    "                        else:\n",
    "                            Q_next.add((node_j[0], s_prime, k_prime))\n",
    "\n",
    "# 定义所需函数和变量\n",
    "def FS(i):\n",
    "    \"\"\"\n",
    "    返回节点 i 的邻接节点集合\n",
    "    该题目中的问题比较简单 直接返回\n",
    "    \"\"\"\n",
    "    global multi_modal_network\n",
    "    return multi_modal_network[i]\n",
    "\n",
    "def δ(mj, s):\n",
    "    # transition(self, current_state, event):\n",
    "    # \"\"\"\n",
    "    # 根据输入事件执行状态转换\n",
    "    # imput:\n",
    "    #     :param current_state: 当前状态\n",
    "    #     :param event: 输入事件\n",
    "    # output:\n",
    "    #     :return: 转换后的状态列表，如果没有定义转换则返回空列表\n",
    "    # \"\"\"\n",
    "\n",
    "    \"\"\"mi参数是没有用上的 可以删去\"\"\"\n",
    "    global nfa # 有限状态自动机\n",
    "\n",
    "    return nfa.transition(s, mj)\n",
    "\n",
    "\n",
    "\n"
   ]
  },
  {
   "cell_type": "code",
   "execution_count": null,
   "metadata": {},
   "outputs": [],
   "source": [
    "Mark = set()"
   ]
  },
  {
   "cell_type": "code",
   "execution_count": null,
   "metadata": {},
   "outputs": [],
   "source": [
    "def LabelExtensionTLS(node_label, Q_now, Q_next):\n",
    "    \"\"\"\n",
    "    实现 LabelExtensionTLS 算法\n",
    "    Args:\n",
    "        node_label: 当前节点信息，格式为 (i, s, k)\n",
    "        Q_now: 当前队列\n",
    "        Q_next: 下一阶段队列\n",
    "    \n",
    "    Returns:\n",
    "        None\n",
    "    \"\"\"\n",
    "    \"\"\"\n",
    "    node_i: node编号, eg.'x1'\n",
    "    s: 状态\n",
    "    k: 换乘次数\n",
    "    \"\"\"\n",
    "    node_i, s, k = node_label[0], node_label[1], node_label[2] # 记录 i, s, k\n",
    "    bellmanCondition = 0 # 使用的是哪一种支配规则\n",
    "\n",
    "\n",
    "    global Mark\n",
    "    global nfa # 实现自动状态机的类\n",
    "    global multi_modal_node # 点\n",
    "    global BestValue # 记录某个标签不论换乘次数的情况下的最短旅行时间\n",
    "\n",
    "    # 遍历当前节点的邻接节点\n",
    "    '''\n",
    "    node_j : (node_j_id, mode, t_i_j) eg.('x2', 'd', 1) j的名称、i到j的交通方式、i到j的旅行时间\n",
    "    '''\n",
    "    Mark.add((node_label)) # 标记目标点\n",
    "\n",
    "    for node_j in FS(node_i):  # FS(i) 表示节点 i 的后续节点集合（通过原始的路网关系去找）\n",
    "        for s_prime in δ(multi_modal_node[node_j[0]], s):  # s 经过 弧的mode可以到达的状态集合，因为此处的研究较为简单 所以这里可到达的状态是唯一的\n",
    "            if multi_modal_node[node_i] == multi_modal_node[node_j[0]]:\n",
    "                k_prime = k\n",
    "            else:\n",
    "                k_prime = k + 1\n",
    "            \n",
    "            # 检查未标记的后续节点，未标记则继续\n",
    "            if (k_prime, node_j[0], s_prime) not in Mark:\n",
    "                # 继续检查贝尔曼条件\n",
    "                if unMark[node_i] + node_j[2] < unMark.get((node_j[0], s_prime, k_prime), math.inf): # 除原点外的其他点的t初始化为无穷\n",
    "                    unMark[(node_j[0], s_prime, k_prime)] = [unMark[node_i] + node_j[2], (node_i, s, k)] # 数组的0位记录旅行时间，1位是上一个标签用于溯源\n",
    "                    \n",
    "                    if k_prime == k:\n",
    "                        BestValue[(node_j, s_prime)] = unMark[node_i] + node_j[2]\n",
    "                \n",
    "                # 判断是否满足支配条件\n",
    "                for s_sp_sprime in nfa.domineState(s_prime):\n",
    "                    if s_sp_sprime == s_prime:\n",
    "                        continue\n",
    "                    if unMark[node_i] + node_j[2] < BestValue.get((node_j[1], s_sp_sprime), math.inf):\n",
    "                        if k_prime == k:\n",
    "                            Q_now.add((node_j[0], s_prime, k_prime))\n",
    "                        else:\n",
    "                            Q_next.add((node_j[0], s_prime, k_prime))\n",
    "\n",
    "# 定义所需函数和变量\n",
    "def FS(i):\n",
    "    \"\"\"\n",
    "    返回节点 i 的邻接节点集合\n",
    "    该题目中的问题比较简单 直接返回\n",
    "    \"\"\"\n",
    "    global multi_modal_network\n",
    "    return multi_modal_network[i]\n",
    "\n",
    "def δ(mj, s):\n",
    "    # transition(self, current_state, event):\n",
    "    # \"\"\"\n",
    "    # 根据输入事件执行状态转换\n",
    "    # imput:\n",
    "    #     :param current_state: 当前状态\n",
    "    #     :param event: 输入事件\n",
    "    # output:\n",
    "    #     :return: 转换后的状态列表，如果没有定义转换则返回空列表\n",
    "    # \"\"\"\n",
    "\n",
    "    \"\"\"mi参数是没有用上的 可以删去\"\"\"\n",
    "    global nfa # 有限状态自动机\n",
    "\n",
    "    return nfa.transition(s, mj)\n",
    "\n",
    "\n",
    "\n"
   ]
  },
  {
   "cell_type": "code",
   "execution_count": 9,
   "metadata": {},
   "outputs": [
    {
     "data": {
      "text/plain": [
       "['s1']"
      ]
     },
     "execution_count": 9,
     "metadata": {},
     "output_type": "execute_result"
    }
   ],
   "source": [
    "nfa.transition('s0', 'w')"
   ]
  },
  {
   "cell_type": "code",
   "execution_count": 10,
   "metadata": {},
   "outputs": [
    {
     "data": {
      "text/plain": [
       "['s1', 's3', 's5']"
      ]
     },
     "execution_count": 10,
     "metadata": {},
     "output_type": "execute_result"
    }
   ],
   "source": [
    "nfa.domineState('s1')"
   ]
  },
  {
   "cell_type": "code",
   "execution_count": 8,
   "metadata": {},
   "outputs": [],
   "source": [
    "# Define the multi-modal network\n",
    "multi_modal_network = {\n",
    "    'x1': [('x2', 'w', 1), ('x4', 'w', 1), ('x6', 'w', 1)], # node id; node id; mode id; travel time \n",
    "    'x2': [('x3', 'b', 1), ('x4', 'w', 1)],\n",
    "    'x3': [('x5', 'w', 1)],\n",
    "    'x4': [('x3', 'w', 1), ('x5', 'w', 1)],\n",
    "    'x5': [],\n",
    "    'x6': [('x4', 'w', 1), ('x7', 's', 1)],\n",
    "    'x7': [('x4', 'w', 1)]\n",
    "}"
   ]
  },
  {
   "cell_type": "code",
   "execution_count": null,
   "metadata": {},
   "outputs": [],
   "source": [
    "def argminQ(Q_now):\n",
    "    '''\n",
    "    实现最小旅行时间的查找\n",
    "    Args: \n",
    "        Q_now\n",
    "\n",
    "    return:\n",
    "        ('x1',['s0', 0, 0])\n",
    "    '''\n",
    "\n",
    "    tarId = ''\n",
    "    tarTime = math.inf\n",
    "    for key, val in Q_now.items():\n",
    "        if val[-1] < tarTime:\n",
    "            tarTime = val[-1]\n",
    "            tarId = key\n",
    "    if tarId == '':\n",
    "        print(\"erro\")\n",
    "        return None\n",
    "    return (key, val)\n"
   ]
  },
  {
   "cell_type": "code",
   "execution_count": null,
   "metadata": {},
   "outputs": [],
   "source": [
    "# 初始化\n",
    "k = 0 # 换乘次数\n",
    "k_max = 5 # 换乘次数上限\n",
    "Q_now = {\n",
    "    'x1': ['s0', 0, 0] # node id; state id; trans cnt; travel time\n",
    "}\n",
    "Q_next = {}\n",
    "t = {\n",
    "    'x1': ['s0', 0, 0] # node id; state id; trans cnt; travel time\n",
    "}\n",
    "BestLastSol = math.inf\n",
    "t_bellman = {\n",
    "    ('x1', 's0', 0,): 0\n",
    "}\n",
    "p_bellman = {}\n",
    "BestValue = {}\n"
   ]
  },
  {
   "cell_type": "code",
   "execution_count": 22,
   "metadata": {},
   "outputs": [],
   "source": [
    "# Define the multi-modal network\n",
    "'''\n",
    "nodes:\n",
    "multi_modal_node = {\n",
    "    nodeId: [modeId],\n",
    "    ...\n",
    "}\n",
    "'''\n",
    "multi_modal_node = {\n",
    "    'x1': 'w',\n",
    "    'x2': 'b',\n",
    "    'x3': 'b',\n",
    "    'x4': 'w',\n",
    "    'x5': 'w',\n",
    "    'x6': 's',\n",
    "    'x7': 's',\n",
    "}\n",
    "'''\n",
    "arcs:\n",
    "    multi_modal_arc ={\n",
    "        nodeId:[(nodeId,travelTime),...],\n",
    "        ...\n",
    "    }\n",
    "\n",
    "'''\n",
    "multi_modal_arc = {\n",
    "    'x1': [('x2', 1), ('x4', 1), ('x6', 1)],\n",
    "    'x2': [('x3', 1), ('x4', 1)],\n",
    "    'x3': [('x5', 1)],\n",
    "    'x4': [('x3', 1), ('x5', 1)],\n",
    "    'x5': [],\n",
    "    'x6': [('x4', 1), ('x7', 1)],\n",
    "    'x7': [('x4', 1)]\n",
    "}"
   ]
  },
  {
   "cell_type": "code",
   "execution_count": 21,
   "metadata": {},
   "outputs": [
    {
     "data": {
      "text/plain": [
       "('x1', ['s0', 0, 0])"
      ]
     },
     "execution_count": 21,
     "metadata": {},
     "output_type": "execute_result"
    }
   ],
   "source": [
    "argminQ(Q_now)"
   ]
  },
  {
   "cell_type": "code",
   "execution_count": null,
   "metadata": {},
   "outputs": [],
   "source": [
    "while True:\n",
    "    key, val = argminQ(Q_now)\n",
    "    del Q_now[key]\n",
    "    if (key != 'x5' or val[0] not in ['s1', 's3', 's5']) and val[-1] < BestLastSol:\n",
    "        LabelExtensionTLS(key, Q_now, Q_next)\n",
    "    if Q_now == '' or (key == 'x5' and val[0] in ['s1', 's3', 's5']):\n",
    "        break\n",
    "if key == 'x5' and val[0] in ['s1', 's3', 's5'] and val[-1] < BestLastSol:\n",
    "    BestLastSol = val[-1]\n",
    "    t_min = val[-1]\n",
    "print(t_min)"
   ]
  }
 ],
 "metadata": {
  "kernelspec": {
   "display_name": "base",
   "language": "python",
   "name": "python3"
  },
  "language_info": {
   "codemirror_mode": {
    "name": "ipython",
    "version": 3
   },
   "file_extension": ".py",
   "mimetype": "text/x-python",
   "name": "python",
   "nbconvert_exporter": "python",
   "pygments_lexer": "ipython3",
   "version": "3.11.7"
  }
 },
 "nbformat": 4,
 "nbformat_minor": 2
}
